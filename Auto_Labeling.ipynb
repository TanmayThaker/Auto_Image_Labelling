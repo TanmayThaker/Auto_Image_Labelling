{
 "cells": [
  {
   "cell_type": "code",
   "execution_count": 1,
   "metadata": {},
   "outputs": [],
   "source": [
    "import tkinter as tk\n",
    "import cv2\n",
    "import PIL\n",
    "import PIL.Image, PIL.ImageTk\n",
    "import numpy as np\n",
    "from tkinter.ttk import *"
   ]
  },
  {
   "cell_type": "code",
   "execution_count": 29,
   "metadata": {
    "scrolled": true
   },
   "outputs": [],
   "source": [
    "class Runner(tk.Tk):\n",
    "\n",
    "\n",
    "    def __init__(self, *args, **kwargs):\n",
    "        tk.Tk.__init__(self, *args, **kwargs)\n",
    "        container = tk.Frame(self)\n",
    "\n",
    "        container.pack(side=\"top\", fill=\"both\", expand=True)\n",
    "        self.frames = {}\n",
    "\n",
    "        frame = StartPage(container, self)\n",
    "\n",
    "        self.frames[StartPage] = frame\n",
    "        frame.grid(row=0, column=0, sticky=\"nsew\")\n",
    "        self.show_frame(StartPage)\n",
    "\n",
    "    def show_frame(self, cont):\n",
    "        frame = self.frames[cont]\n",
    "        frame.tkraise()\n",
    "        \n",
    "class StartPage(tk.Frame):\n",
    "\n",
    "    def __init__(self, parent, controller):\n",
    "        tk.Frame.__init__(self, parent)\n",
    "        \n",
    "        buttons_frame = tk.Frame(self)\n",
    "        self.btn_load=Button(buttons_frame, text=\"Open\\nFolder\",width=10)\n",
    "        self.btn_load.pack(anchor=tk.CENTER,padx =30,pady =30)\n",
    "        self.btn_start=Button(buttons_frame, text=\"Next\\nImage\", width=10)\n",
    "        self.btn_start.pack(anchor=tk.CENTER,padx =30,pady =30)\n",
    "        self.btn_back=Button(buttons_frame, text=\"Previous\\nImage\", width=10)\n",
    "        self.btn_back.pack(anchor=tk.CENTER,padx =30,pady =30)\n",
    "        self.btn_stop=Button(buttons_frame, text=\"Save\\nAnnotation\", width=10)\n",
    "        self.btn_stop.pack(anchor=tk.CENTER,padx =30,pady =30)\n",
    "        buttons_frame.pack(pady=30,side=\"left\",anchor=\"nw\")\n",
    "        \n",
    "        \n",
    "        cap_frame2 = tk.Frame(self)\n",
    "        self.canvas1 = tk.Canvas(cap_frame2, width = 1000, height =800,bg=\"black\",bd=2)\n",
    "        self.canvas1.pack(padx=5,pady=5)\n",
    "        cap_frame2.pack(side=\"left\",anchor=\"nw\",pady=30)\n",
    "        \n",
    "        cap_frame3 = tk.Frame(self)\n",
    "        label = tk.Label(cap_frame3, text=\"Select Model\")\n",
    "        label.pack(pady = 10,padx = 20)\n",
    "        self.variable = tk.StringVar(cap_frame3)\n",
    "        self.models = [\"FRCNN\",\"SSD\"]\n",
    "        self.w = OptionMenu(cap_frame3, self.variable,*self.models)\n",
    "        self.w.pack(pady = 10,padx = 20)\n",
    "        cap_frame3.pack(side=\"left\",anchor=\"nw\",pady=30)\n",
    "        \n",
    "app = Runner()\n",
    "app.mainloop()"
   ]
  },
  {
   "cell_type": "code",
   "execution_count": 31,
   "metadata": {},
   "outputs": [
    {
     "name": "stdout",
     "output_type": "stream",
     "text": [
      "l = Checkbutton(root, text=Anne, variable=['Anne', 'password1', ['friend1', 'friend2', 'friend3']]\n",
      "l = Checkbutton(root, text=Bea, variable=['Bea', 'password2', ['friend1', 'friend2', 'friend3']]\n",
      "l = Checkbutton(root, text=Chris, variable=['Chris', 'password1', ['friend1', 'friend2', 'friend3']]\n"
     ]
    }
   ],
   "source": []
  },
  {
   "cell_type": "code",
   "execution_count": null,
   "metadata": {},
   "outputs": [],
   "source": []
  }
 ],
 "metadata": {
  "kernelspec": {
   "display_name": "Python 3",
   "language": "python",
   "name": "python3"
  },
  "language_info": {
   "codemirror_mode": {
    "name": "ipython",
    "version": 3
   },
   "file_extension": ".py",
   "mimetype": "text/x-python",
   "name": "python",
   "nbconvert_exporter": "python",
   "pygments_lexer": "ipython3",
   "version": "3.6.9"
  }
 },
 "nbformat": 4,
 "nbformat_minor": 2
}
